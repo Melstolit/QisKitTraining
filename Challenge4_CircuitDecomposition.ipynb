{
 "cells": [
  {
   "cell_type": "markdown",
   "metadata": {},
   "source": [
    "# Exercise 4: Circuit Decomposition\n",
    "Wow! If you managed to solve the first three exercises, congratulations! The fourth problem is supposed to puzzle even the quantum experts among you, so don’t worry if you cannot solve it. If you can, hats off to you!\n",
    "\n",
    "You may recall from your quantum mechanics course that quantum theory is unitary. Therefore, the evolution of any (closed) system can be described by a unitary. But given an arbitrary unitary, can you actually implement it on your quantum computer?\n",
    "\n",
    "**\"A set of quantum gates is said to be universal if any unitary transformation of the quantum data can be efficiently approximated arbitrarily well as a sequence of gates in the set.\"** (https://qiskit.org/textbook/ch-algorithms/defining-quantum-circuits.html)\n",
    "\n",
    "Every gate you run on the IBM Quantum Experience is transpiled into single qubit rotations and CNOT (CX) gates. We know that these constitute a universal gate set, which implies that any unitary can be implemented using only these gates. However, in general it is not easy to find a good decomposition for an arbitrary unitary. Your task is to find such a decomposition.\n",
    "\n",
    "You are given the following unitary:"
   ]
  },
  {
   "cell_type": "code",
   "execution_count": 1,
   "metadata": {
    "scrolled": false
   },
   "outputs": [
    {
     "name": "stdout",
     "output_type": "stream",
     "text": [
      "U has shape (16, 16)\n"
     ]
    }
   ],
   "source": [
    "from may4_challenge.ex4 import get_unitary\n",
    "U = get_unitary()\n",
    "#print(U)\n",
    "print(\"U has shape\", U.shape)"
   ]
  },
  {
   "cell_type": "markdown",
   "metadata": {},
   "source": [
    "#### What circuit would make such a complicated unitary?\n",
    "\n",
    "Is there some symmetry, or is it random? We just updated Qiskit with the introduction of a quantum circuit library (https://github.com/Qiskit/qiskit-terra/tree/master/qiskit/circuit/library). This library gives users access to a rich set of well-studied circuit families, instances of which can be used as benchmarks (quantum volume), as building blocks in building more complex circuits (adders), or as tools to explore quantum computational advantage over classical computation (instantaneous quantum polynomial complexity circuits)."
   ]
  },
  {
   "cell_type": "code",
   "execution_count": 2,
   "metadata": {},
   "outputs": [
    {
     "data": {
      "image/png": "[encoded data removed]",
      "text/plain": [
       "<Figure size 576x360 with 2 Axes>"
      ]
     },
     "execution_count": 2,
     "metadata": {},
     "output_type": "execute_result"
    }
   ],
   "source": [
    "from qiskit import QuantumCircuit, Aer, execute\n",
    "from qiskit.compiler import transpile, assemble\n",
    "from qiskit.visualization import *\n",
    "from may4_challenge.ex1 import minicomposer\n",
    "from may4_challenge.ex4 import check_circuit, submit_circuit\n",
    "import numpy as np\n",
    "import math\n",
    "from scipy.linalg import hadamard\n",
    "\n",
    "plot_state_hinton(U)\n",
    "#plot_state_city(U)\n"
   ]
  },
  {
   "cell_type": "markdown",
   "metadata": {},
   "source": [
    "**Using only single qubit rotations and CNOT gates, find a quantum circuit that approximates that unitary $U$ by a unitary $V$ up to an error $\\varepsilon = 0.01$, such that $\\lVert U - V\\rVert_2 \\leq \\varepsilon$ !** \n",
    "\n",
    "Note that the norm we are using here is the spectral norm, $\\qquad \\lVert A \\rVert_2 = \\max_{\\lVert \\psi \\rVert_2= 1} \\lVert A \\psi \\rVert$.\n",
    "\n",
    "This can be seen as the largest scaling factor that the matrix $A$ has on any initial (normalized) state $\\psi$. One can show that this norm corresponds to the largest singular value of $A$, i.e., the square root of the largest eigenvalue of the matrix $A^\\dagger A$, where $A^{\\dagger}$ denotes the conjugate transpose of $A$.\n",
    "\n",
    "**When you submit a circuit, we remove the global phase of the corresponding unitary $V$ before comparing it with $U$ using the spectral norm. For example, if you submit a circuit that generates $V = \\text{e}^{i\\theta}U$, we remove the global phase $\\text{e}^{i\\theta}$ from $V$ before computing the norm, and you will have a successful submission. As a result, you do not have to worry about matching the desired unitary, $U$, up to a global phase.**\n",
    "\n",
    "As the single-qubit gates have a much higher fidelity than the two-qubit gates, we will look at the number of CNOT-gates, $n_{cx}$, and the number of u3-gates, $n_{u3}$, to determine the cost of your decomposition as \n",
    "\n",
    "$$\n",
    "\\qquad \\text{cost} = 10 \\cdot n_{cx} + n_{u3}\n",
    "$$\n",
    "\n",
    "Try to optimize the cost of your decomposition. \n",
    "\n",
    "**Note that you will need to ensure that your circuit is composed only of $u3$ and $cx$ gates. The exercise is considered correctly solved if your cost is smaller than 1600.**\n",
    "\n",
    "---\n",
    "For useful tips to complete this exercise as well as pointers for communicating with other participants and asking questions, please take a look at the following [repository](https://github.com/qiskit-community/may4_challenge_exercises). You will also find a copy of these exercises, so feel free to edit and experiment with these notebooks.\n",
    "\n",
    "---"
   ]
  },
  {
   "cell_type": "code",
   "execution_count": 3,
   "metadata": {},
   "outputs": [],
   "source": [
    "#minicomposer(4, dirac=True, qsphere=True)\n",
    "def create_circuit():\n",
    "    qc = QuantumCircuit(4)\n",
    "    qc.h(0)\n",
    "    qc.z(0)\n",
    "    qc.rx(-np.pi/3,0)\n",
    "    qc.sdg(0)\n",
    "    qc.h(1)\n",
    "    qc.z(1)\n",
    "    qc.s(1)\n",
    "    qc.s(1)\n",
    "    qc.rx(np.pi/7,1)\n",
    "    qc.h(2)\n",
    "    qc.z(2)\n",
    "    qc.rx(np.pi/5,2)\n",
    "    qc.h(3)\n",
    "    qc.rx(-np.pi/5,3)\n",
    "    qc.cz(1, 3)\n",
    "    qc.sdg(0)\n",
    "    qc.t(1)\n",
    "    qc.z(2)\n",
    "    qc.cx(0, 2)\n",
    "    return qc"
   ]
  },
  {
   "cell_type": "code",
   "execution_count": 94,
   "metadata": {},
   "outputs": [
    {
     "data": {
      "text/plain": [
       "<qiskit.circuit.instructionset.InstructionSet at 0x7f64dfd05d50>"
      ]
     },
     "execution_count": 94,
     "metadata": {},
     "output_type": "execute_result"
    }
   ],
   "source": [
    "## build your quantum circuit here\n",
    "\n",
    "# apply operations to your quantum circuit here\n",
    "#qc = create_circuit()\n",
    "qc = QuantumCircuit(4)\n",
    "H = hadamard(16,dtype = np.longdouble)*.25\n",
    "#print(H)\n",
    "mat_trans = np.matmul(H, U)\n",
    "#print(det)\n",
    "#mat_trans = mat_trans / math.sqrt(2)\n",
    "#print(mat_trans)\n",
    "#qc.iso(mat_trans, [0,1,2,3], [])\n",
    "#mat_trans = np.diag(U) * H\n",
    "#qc.diagonal(np.diag(mat_trans),[0,1,2,3])\n",
    "#qc.iso(np.matmul(U,mat_trans.T.conjugate()),[0,1,2,3],[])\n",
    "qc.iso(mat_trans, [0,1,2,3],[])\n",
    "#qc.unitary()\n",
    "#qc.draw()"
   ]
  },
  {
   "cell_type": "code",
   "execution_count": 95,
   "metadata": {},
   "outputs": [],
   "source": [
    "qc = transpile(qc.decompose(), optimization_level=3, basis_gates=['u3', 'cx'])\n",
    "qc.h(0)\n",
    "qc.h(1)\n",
    "qc.h(2)\n",
    "qc.h(3)\n",
    "qc = transpile(qc.decompose(), backend=None, optimization_level=3, basis_gates=['u3', 'cx'])\n",
    "#qc.diagonal([], [0,1,2,3])\n",
    "#qc.draw()"
   ]
  },
  {
   "cell_type": "code",
   "execution_count": 96,
   "metadata": {},
   "outputs": [],
   "source": [
    "\n",
    "#Aer.get_backend(\"unitary_simulator\")\n",
    "#result = execute(qc, backend=simulator, shots=1).result()\n",
    "#qc_unitary = result.get_unitary()\n",
    "backend = Aer.get_backend('statevector_simulator')\n",
    "#qc = transpile(qc.decompose(), backend=backend, optimization_level=3, basis_gates=['u3', 'cx'])\n",
    "job = execute(qc, backend)"
   ]
  },
  {
   "cell_type": "code",
   "execution_count": 97,
   "metadata": {},
   "outputs": [],
   "source": [
    "result = job.result()\n",
    "outputstate = result.get_statevector(qc, decimals=3)\n",
    "#print(outputstate)"
   ]
  },
  {
   "cell_type": "code",
   "execution_count": null,
   "metadata": {},
   "outputs": [],
   "source": [
    "#plot_state_city(outputstate)"
   ]
  },
  {
   "cell_type": "code",
   "execution_count": 98,
   "metadata": {},
   "outputs": [
    {
     "name": "stdout",
     "output_type": "stream",
     "text": [
      "Circuit stats:\n",
      "||U-V||_2 = 1.2110458100815867e-11\n",
      "(U is the reference unitary, V is yours, and the global phase has been removed from both of them).\n",
      "Cost is 1449\n",
      "\n",
      "Great! Your circuit meets all the constrains.\n",
      "Your score is 1449. The lower, the better!\n",
      "Feel free to submit your answer and remember you can re-submit a new circuit at any time!\n"
     ]
    }
   ],
   "source": [
    "##### check your quantum circuit by running the next line\n",
    "check_circuit(qc)"
   ]
  },
  {
   "cell_type": "markdown",
   "metadata": {},
   "source": [
    "You can check whether your circuit is valid before submitting it with `check_circuit(qc)`. Once you have a valid solution, please submit it by running the following cell (delete the `#` before `submit_circuit`). You can re-submit at any time.\n"
   ]
  },
  {
   "cell_type": "code",
   "execution_count": 99,
   "metadata": {},
   "outputs": [
    {
     "data": {
      "text/html": [
       "\n",
       "        <div style=\"border: 2px solid black; padding: 2rem;\">\n",
       "            <p>\n",
       "                Success 🎉! Your circuit has been submitted. Return to the\n",
       "                <a href=\"https://quantum-computing.ibm.com/challenges/4anniversary/?exercise=4\" target=\"_blank\">\n",
       "                    IBM Quantum Challenge page\n",
       "                </a>\n",
       "                and check your score and ranking.\n",
       "            </p>\n",
       "            <p>\n",
       "                Remember that you can submit a circuit as many times as you\n",
       "                want.\n",
       "            </p>\n",
       "        </div>"
      ],
      "text/plain": [
       "<IPython.core.display.HTML object>"
      ]
     },
     "metadata": {},
     "output_type": "display_data"
    }
   ],
   "source": [
    "# Send the circuit as the final answer, can re-submit at any time\n",
    "submit_circuit(qc) "
   ]
  },
  {
   "cell_type": "code",
   "execution_count": null,
   "metadata": {},
   "outputs": [],
   "source": []
  }
 ],
 "metadata": {
  "kernelspec": {
   "display_name": "Python 3",
   "language": "python",
   "name": "python3"
  },
  "language_info": {
   "codemirror_mode": {
    "name": "ipython",
    "version": 3
   },
   "file_extension": ".py",
   "mimetype": "text/x-python",
   "name": "python",
   "nbconvert_exporter": "python",
   "pygments_lexer": "ipython3",
   "version": "3.7.6"
  }
 },
 "nbformat": 4,
 "nbformat_minor": 4
}
